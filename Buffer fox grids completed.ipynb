{
 "cells": [
  {
   "cell_type": "markdown",
   "metadata": {},
   "source": [
    "# Multiple Buffer Script for Island Fox Grids\n",
    "Let's buffer the fox grids and see how much area each buffer covers. We can do cool analysis with it. <br>\n",
    "<img align=\"left\" width=\"300\" height=\"300\" src=\"https://www.nwf.org/-/media/NEW-WEBSITE/Shared-Folder/Magazines/2019/June-July/island-foxes-StCatalina-fox-JJ19-900x591.ashx?la=en&hash=525F6E9D0242F1C1A07B3B2AD76A837A8CBBED9E\">"
   ]
  },
  {
   "cell_type": "markdown",
   "metadata": {},
   "source": [
    "#### Make a list of buffer values using the range() function"
   ]
  },
  {
   "cell_type": "code",
   "execution_count": 22,
   "metadata": {},
   "outputs": [
    {
     "name": "stdout",
     "output_type": "stream",
     "text": [
      "[100, 200, 300, 400]\n"
     ]
    }
   ],
   "source": [
    "buffer_list = [i for i in range(100, 500, 100)]\n",
    "print(buffer_list)\n"
   ]
  },
  {
   "cell_type": "markdown",
   "metadata": {},
   "source": [
    "#### Loop over the buffer values to buffer, add field and calculcate area values\n",
    "A for loop is the bread and butter of python.  It loops over a series of items and does whatever is in the indented code block."
   ]
  },
  {
   "cell_type": "code",
   "execution_count": 23,
   "metadata": {},
   "outputs": [
    {
     "name": "stdout",
     "output_type": "stream",
     "text": [
      "Buffering 100 meters\n",
      "Clipping\n",
      "Adding field\n",
      "Calculating field\n",
      "Buffering 200 meters\n",
      "Clipping\n",
      "Adding field\n",
      "Calculating field\n",
      "Buffering 300 meters\n",
      "Clipping\n",
      "Adding field\n",
      "Calculating field\n",
      "Buffering 400 meters\n",
      "Clipping\n",
      "Adding field\n",
      "Calculating field\n"
     ]
    }
   ],
   "source": [
    "\n",
    "# output spatial reference is nad83 UTM zone 10\n",
    "sr = arcpy.SpatialReference(26910)\n",
    "\n",
    "shoreline = r\"C:\\Student\\GISDay_2021\\Fox_data.gdb\\Shoreline\"\n",
    "\n",
    "# Buffer using the list of meters\n",
    "for buffer in buffer_list:\n",
    "\n",
    "    print(f\"Buffering {buffer} meters\")\n",
    "    out_fc = rf\"C:\\Student\\GISDay_2021\\Fox_data.gdb\\FoxGrids_{buffer}m_buffer\"\n",
    "    arcpy.analysis.Buffer(\"FoxGrids\", out_fc , f\"{buffer} Meters\", \"FULL\", \"ROUND\", \"LIST\", \"GridCode\", \"PLANAR\")\n",
    "    \n",
    "    print(\"Clipping\")\n",
    "    out_fc_clip = out_fc + \"_clip\"\n",
    "    arcpy.analysis.Clip(out_fc, shoreline , out_fc_clip, None)\n",
    "    \n",
    "    print(\"Adding field\")\n",
    "    arcpy.management.AddField(out_fc_clip, \"Hectares\", \"DOUBLE\", None, None, None, '', \"NULLABLE\", \"NON_REQUIRED\", '')\n",
    "    arcpy.management.AddField(out_fc_clip, \"SqMiles\", \"DOUBLE\", None, None, None, '', \"NULLABLE\", \"NON_REQUIRED\", '')\n",
    "    \n",
    "    print(\"Calculating field\")\n",
    "    arcpy.management.CalculateGeometryAttributes(out_fc_clip, \"SqMiles AREA\", '', \"SQUARE_MILES_US\", sr, \"SAME_AS_INPUT\")\n",
    "    arcpy.management.CalculateGeometryAttributes(out_fc_clip, \"Hectares AREA\", '', \"HECTARES\", sr, \"SAME_AS_INPUT\")"
   ]
  }
 ],
 "metadata": {
  "kernelspec": {
   "display_name": "ArcGISPro",
   "language": "Python",
   "name": "python3"
  },
  "language_info": {
   "file_extension": ".py",
   "name": "python",
   "version": "3"
  }
 },
 "nbformat": 4,
 "nbformat_minor": 2
}
